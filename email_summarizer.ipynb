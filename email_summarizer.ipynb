{
 "cells": [
  {
   "cell_type": "markdown",
   "metadata": {},
   "source": [
    "# Takes the content of an email as input and generates a short subject line summary using OpenAI's GPT-4 model."
   ]
  },
  {
   "cell_type": "code",
   "execution_count": null,
   "metadata": {},
   "outputs": [],
   "source": [
    "\n",
    "import os\n",
    "from dotenv import load_dotenv\n",
    "from openai import OpenAI"
   ]
  },
  {
   "cell_type": "code",
   "execution_count": null,
   "metadata": {},
   "outputs": [],
   "source": [
    "load_dotenv()\n",
    "api_key = os.getenv('OPENAI_API_KEY')"
   ]
  },
  {
   "cell_type": "code",
   "execution_count": null,
   "metadata": {},
   "outputs": [],
   "source": [
    "openai = OpenAI()"
   ]
  },
  {
   "cell_type": "code",
   "execution_count": null,
   "metadata": {},
   "outputs": [],
   "source": [
    "# Step 1: Create your prompts\n",
    "\n",
    "system_prompt = \"You are an assistant that analyzes email contents and provide a short subject line summary\"\n",
    "user_prompt = \"\"\"\n",
    "Dear Dr. Johnson,\n",
    "\n",
    "I hope this email finds you well. My name is Justine Okumu, and I am an AI Engineer at Innovate Analytics. I am reaching out to explore a potential collaboration between our teams on developing advanced analytics solutions for healthcare data.\n",
    "Your recent publication on predictive modeling in patient care greatly inspired our current project on improving hospital resource allocation. We believe your expertise could significantly enhance the project’s scope, and we would love to discuss possible synergies.\n",
    "If this aligns with your interests, I would appreciate the opportunity to set up a meeting at your earliest convenience. Please let me know your availability, and I’ll gladly arrange a time that works for you.\n",
    "Thank you for considering this collaboration. I look forward to your response.\n",
    "\n",
    "Best regards,\n",
    "Justine Okumu\n",
    "AI Engineer | Innovate Analytics\n",
    "okumujustine.com\n",
    "\"\"\"\n",
    "\n",
    "# Step 2: Make the messages list\n",
    "def create_prompt_sms(role, content):\n",
    "    return {\n",
    "        'role': role,\n",
    "        'content': content\n",
    "    }\n",
    "messages = [\n",
    "    create_prompt_sms('system', system_prompt),\n",
    "    create_prompt_sms('user', user_prompt)\n",
    "] # fill this in\n",
    "\n",
    "# Step 3: Call OpenAI\n",
    "\n",
    "response = openai.chat.completions.create(\n",
    "    model = \"gpt-4o-mini\",\n",
    "    messages = messages\n",
    ")\n",
    "\n",
    "# Step 4: print the result\n",
    "\n",
    "print(response.choices[0].message.content)"
   ]
  },
  {
   "cell_type": "code",
   "execution_count": null,
   "metadata": {
    "vscode": {
     "languageId": "plaintext"
    }
   },
   "outputs": [],
   "source": []
  },
  {
   "cell_type": "code",
   "execution_count": null,
   "metadata": {
    "vscode": {
     "languageId": "plaintext"
    }
   },
   "outputs": [],
   "source": []
  }
 ],
 "metadata": {
  "language_info": {
   "name": "python"
  }
 },
 "nbformat": 4,
 "nbformat_minor": 2
}
