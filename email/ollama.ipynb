{
 "cells": [
  {
   "cell_type": "markdown",
   "metadata": {},
   "source": [
    "## Takes the content of an email as input and generates a short subject line summary using Facebook's Ollama model."
   ]
  },
  {
   "cell_type": "code",
   "execution_count": 21,
   "metadata": {},
   "outputs": [],
   "source": [
    "import ollama\n",
    "import requests\n",
    "from bs4 import BeautifulSoup"
   ]
  },
  {
   "cell_type": "code",
   "execution_count": 22,
   "metadata": {},
   "outputs": [],
   "source": [
    "website_data = requests.get('https://okumujustine.com')\n",
    "website = BeautifulSoup(website_data.text, \"html.parser\")\n",
    "website_text = website.get_text()"
   ]
  },
  {
   "cell_type": "code",
   "execution_count": 27,
   "metadata": {},
   "outputs": [],
   "source": [
    "user_promt = website_text\n",
    "system_promt = \"You are an assistant that analyzes the contents of a website \\\n",
    "and provides a short summary, ignoring text that might be navigation related\""
   ]
  },
  {
   "cell_type": "code",
   "execution_count": 42,
   "metadata": {},
   "outputs": [
    {
     "name": "stdout",
     "output_type": "stream",
     "text": [
      "Here is a summary of the content on the webpage:\n",
      "\n",
      "Okumu Justine is a software developer with over 4 years of experience in Python and JavaScript. He is currently learning Salesforce CRM and Machine Learning.\n"
     ]
    }
   ],
   "source": [
    "\n",
    "from ollama import ChatResponse\n",
    "\n",
    "\n",
    "chat_response: ChatResponse = ollama.chat(\n",
    "    model=\"llama3.2\",\n",
    "    messages = [\n",
    "        {\"role\": \"system\", \"content\": system_promt},\n",
    "        {\"role\": \"user\", \"content\": user_promt},\n",
    "    ],\n",
    ")\n",
    "\n",
    "print(chat_response.message.content)"
   ]
  },
  {
   "cell_type": "code",
   "execution_count": null,
   "metadata": {},
   "outputs": [],
   "source": []
  }
 ],
 "metadata": {
  "kernelspec": {
   "display_name": "venv",
   "language": "python",
   "name": "python3"
  },
  "language_info": {
   "codemirror_mode": {
    "name": "ipython",
    "version": 3
   },
   "file_extension": ".py",
   "mimetype": "text/x-python",
   "name": "python",
   "nbconvert_exporter": "python",
   "pygments_lexer": "ipython3",
   "version": "3.12.7"
  }
 },
 "nbformat": 4,
 "nbformat_minor": 2
}
